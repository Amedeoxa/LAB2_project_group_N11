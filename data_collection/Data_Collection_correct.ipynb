{
 "cells": [
  {
   "cell_type": "code",
   "execution_count": 1,
   "metadata": {
    "executionInfo": {
     "elapsed": 621,
     "status": "ok",
     "timestamp": 1758229609985,
     "user": {
      "displayName": "Bianca Mastroddi",
      "userId": "16451186681025686356"
     },
     "user_tz": -120
    },
    "id": "h3Zraokvuvx0"
   },
   "outputs": [],
   "source": [
    "import requests\n",
    "from requests.adapters import HTTPAdapter, Retry\n",
    "import json\n",
    "import re\n",
    "import sys\n",
    "import pandas as pd"
   ]
  },
  {
   "cell_type": "code",
   "execution_count": 2,
   "metadata": {
    "executionInfo": {
     "elapsed": 1464,
     "status": "ok",
     "timestamp": 1758229613097,
     "user": {
      "displayName": "Bianca Mastroddi",
      "userId": "16451186681025686356"
     },
     "user_tz": -120
    },
    "id": "iGDDK028Axms"
   },
   "outputs": [],
   "source": [
    "url = \"https://rest.uniprot.org/uniprotkb/search?format=json&query=%28%28fragment%3Afalse%29+AND+%28taxonomy_id%3A2759%29+AND+%28length%3A%5B40+TO+*%5D%29+AND+%28reviewed%3Atrue%29+AND+%28existence%3A1%29+AND+%28ft_signal_exp%3A*%29%29&size=500\"\n",
    "response = requests.get(url)\n",
    "session = requests.Session()"
   ]
  },
  {
   "cell_type": "code",
   "execution_count": 3,
   "metadata": {
    "collapsed": true,
    "executionInfo": {
     "elapsed": 17,
     "status": "ok",
     "timestamp": 1758229614052,
     "user": {
      "displayName": "Bianca Mastroddi",
      "userId": "16451186681025686356"
     },
     "user_tz": -120
    },
    "id": "aIBwOLkezSOe"
   },
   "outputs": [],
   "source": [
    "def get_next_link(headers):\n",
    "    if \"Link\" in headers:\n",
    "        links = headers[\"Link\"].split(\",\")\n",
    "        for link in links:\n",
    "            match = re.search(r'<(.+)>; rel=\"next\"', link)\n",
    "            if match:\n",
    "                return match.group(1)\n",
    "    return None\n",
    "\n",
    "def get_batch(batch_url):\n",
    "    while batch_url:\n",
    "        response = session.get(batch_url)\n",
    "        response.raise_for_status()\n",
    "        total = response.headers.get(\"x-total-results\")\n",
    "        yield response, total\n",
    "        batch_url = get_next_link(response.headers)"
   ]
  },
  {
   "cell_type": "code",
   "execution_count": 4,
   "metadata": {},
   "outputs": [],
   "source": [
    "def get_kingdom(entry):\n",
    "  if \"Fungi\" in entry[\"organism\"][\"lineage\"]:\n",
    "     kd = \"Fungi\"\n",
    "  elif \"Viridiplantae\" in entry[\"organism\"][\"lineage\"]:\n",
    "    kd = \"Viridiplantae\"\n",
    "  elif \"Metazoa\" in entry[\"organism\"][\"lineage\"]:\n",
    "    kd = \"Metazoa\"\n",
    "  else:\n",
    "    kd = \"Other\"\n",
    "  return kd"
   ]
  },
  {
   "cell_type": "code",
   "execution_count": 10,
   "metadata": {
    "executionInfo": {
     "elapsed": 5948,
     "status": "ok",
     "timestamp": 1758229622227,
     "user": {
      "displayName": "Bianca Mastroddi",
      "userId": "16451186681025686356"
     },
     "user_tz": -120
    },
    "id": "dd99Ra5OtLxQ"
   },
   "outputs": [
    {
     "name": "stdout",
     "output_type": "stream",
     "text": [
      "The total number of entries in the positive set is:  2932\n"
     ]
    }
   ],
   "source": [
    "ok_entries = []\n",
    "for response, total in get_batch(url):\n",
    "    data = response.json()\n",
    "    for i in range(len(data['results'])):\n",
    "      entry = data['results'][i]\n",
    "      if data['results'][i]['features'][0]['location']['end']['value'] > 13 and data['results'][i]['features'][0]['description'] == '':\n",
    "        ok_entries.append(entry)\n",
    "print('The total number of entries in the positive set is: ', len(ok_entries))"
   ]
  },
  {
   "cell_type": "code",
   "execution_count": 6,
   "metadata": {
    "collapsed": true,
    "executionInfo": {
     "elapsed": 38,
     "status": "ok",
     "timestamp": 1758229624016,
     "user": {
      "displayName": "Bianca Mastroddi",
      "userId": "16451186681025686356"
     },
     "user_tz": -120
    },
    "id": "wLOhRgwaOkZJ"
   },
   "outputs": [],
   "source": [
    "with open(\"positive.tsv\", 'w') as output_file, open(\"positive.fasta\", \"w\") as fasta_outputfile:\n",
    "  for entry in ok_entries:\n",
    "    line = f'''{entry[\"primaryAccession\"]}{'\\t'}{entry[\"organism\"][\"scientificName\"]}{'\\t'}{get_kingdom(entry)}{'\\t'}{entry[\"sequence\"][\"length\"]}{'\\t'}{entry[\"features\"][0][\"location\"][\"end\"][\"value\"]}'''\n",
    "    output_file.write(line + '\\n')\n",
    "    header = f\"\"\">{entry[\"primaryAccession\"]} {entry[\"organism\"][\"scientificName\"]}\"\"\"\n",
    "    sequence = entry[\"sequence\"][\"value\"]\n",
    "    fasta_outputfile.write(header + \"\\n\" + sequence + \"\\n\")"
   ]
  },
  {
   "cell_type": "markdown",
   "metadata": {
    "id": "C2qNVA5pxTgv"
   },
   "source": [
    "# Negatives"
   ]
  },
  {
   "cell_type": "code",
   "execution_count": 7,
   "metadata": {
    "executionInfo": {
     "elapsed": 1262,
     "status": "ok",
     "timestamp": 1758229913590,
     "user": {
      "displayName": "Bianca Mastroddi",
      "userId": "16451186681025686356"
     },
     "user_tz": -120
    },
    "id": "5AX_4i07yw4N"
   },
   "outputs": [],
   "source": [
    "urlo_neg = \"https://rest.uniprot.org/uniprotkb/search?format=json&query=%28%28fragment%3Afalse%29+AND+%28taxonomy_id%3A2759%29+AND+%28length%3A%5B40+TO+*%5D%29+AND+%28reviewed%3Atrue%29+AND+%28existence%3A1%29+NOT+%28ft_signal%3A*%29+OR+%28cc_scl_term_exp%3ASL-0091%29+OR+%28cc_scl_term_exp%3ASL-0191%29+OR+%28cc_scl_term_exp%3ASL-0173%29+OR+%28cc_scl_term_exp%3ASL-0209%29+OR+%28cc_scl_term_exp%3ASL-0204%29+OR+%28cc_scl_term_exp%3ASL-0039%29%29&size=500\"\n",
    "response_neg = requests.get(urlo_neg)\n",
    "session = requests.Session()"
   ]
  },
  {
   "cell_type": "code",
   "execution_count": 13,
   "metadata": {
    "executionInfo": {
     "elapsed": 40963,
     "status": "ok",
     "timestamp": 1758232714103,
     "user": {
      "displayName": "Bianca Mastroddi",
      "userId": "16451186681025686356"
     },
     "user_tz": -120
    },
    "id": "8oG07qHCzESI"
   },
   "outputs": [
    {
     "name": "stdout",
     "output_type": "stream",
     "text": [
      "The number of proteins having the transmembrane helix in the first 90 residues is:  2465\n",
      "The total number of entries in the negative set is:  20615\n"
     ]
    }
   ],
   "source": [
    "neg_entries = []\n",
    "count = 0\n",
    "for response, total in get_batch(urlo_neg):\n",
    "    data_neg = response.json()\n",
    "    for i in range(len(data_neg['results'])):\n",
    "      entry_neg = data_neg['results'][i]\n",
    "      tm_present = False  # Initialize the boolean flag for this entry\n",
    "      # Iterate through the features list for each entry\n",
    "      for feature in entry_neg.get('features', []):\n",
    "          # Check if the 'type' key exists and is 'Transmembrane'\n",
    "          if feature.get('type') == 'Transmembrane':\n",
    "              if re.search(\"Helical\", feature.get(\"description\", \"\")):\n",
    "                if feature.get(\"location\", {}).get(\"start\", {}).get(\"value\", float('inf')) <= 90:\n",
    "                  tm_present = True\n",
    "                  count += 1\n",
    "                  break # Found the specific TM domain, no need to check further features for this entry\n",
    "\n",
    "      # Append the entry data along with the tm_present flag\n",
    "      # This ensures that the boolean corresponds to the entry\n",
    "      neg_entries.append((entry_neg, tm_present))\n",
    "print('The number of proteins having the transmembrane helix in the first 90 residues is: ', count)\n",
    "print('The total number of entries in the negative set is: ', len(neg_entries))"
   ]
  },
  {
   "cell_type": "code",
   "execution_count": 9,
   "metadata": {
    "executionInfo": {
     "elapsed": 1046,
     "status": "ok",
     "timestamp": 1758233362916,
     "user": {
      "displayName": "Bianca Mastroddi",
      "userId": "16451186681025686356"
     },
     "user_tz": -120
    },
    "id": "XoCFzhZjxhK4"
   },
   "outputs": [],
   "source": [
    "with open(\"negative.tsv\", 'w') as output_file, open(\"negative.fasta\", \"w\") as fasta_outputfile:\n",
    "  for i, entry in enumerate(neg_entries):\n",
    "    line = f'''{entry[0][\"primaryAccession\"]}{'\\t'}{entry[0][\"organism\"][\"scientificName\"]}{'\\t'}{get_kingdom(entry[0])}{'\\t'}{entry[0][\"sequence\"][\"length\"]}{'\\t'}{entry[1]}'''\n",
    "    output_file.write(line + '\\n')\n",
    "    header = f\"\"\">{entry[0][\"primaryAccession\"]} {entry[0][\"organism\"][\"scientificName\"]}\"\"\"\n",
    "    sequence = entry[0][\"sequence\"][\"value\"]\n",
    "    fasta_outputfile.write(header + \"\\n\" + sequence + \"\\n\")"
   ]
  }
 ],
 "metadata": {
  "colab": {
   "provenance": []
  },
  "kernelspec": {
   "display_name": "base",
   "language": "python",
   "name": "python3"
  },
  "language_info": {
   "codemirror_mode": {
    "name": "ipython",
    "version": 3
   },
   "file_extension": ".py",
   "mimetype": "text/x-python",
   "name": "python",
   "nbconvert_exporter": "python",
   "pygments_lexer": "ipython3",
   "version": "3.12.7"
  }
 },
 "nbformat": 4,
 "nbformat_minor": 0
}
