{
 "cells": [
  {
   "cell_type": "code",
   "execution_count": null,
   "id": "66d72819",
   "metadata": {},
   "outputs": [],
   "source": [
    "def make_sets():\n",
    "    "
   ]
  },
  {
   "cell_type": "code",
   "execution_count": 3,
   "id": "ac7689e4",
   "metadata": {},
   "outputs": [],
   "source": [
    "l = [i for i in range( 5)]"
   ]
  },
  {
   "cell_type": "code",
   "execution_count": 32,
   "id": "70d9b019",
   "metadata": {},
   "outputs": [],
   "source": [
    "def make_groups():\n",
    "    l = [_ for _ in range(5)]\n",
    "    group = {}\n",
    "    for i in l: \n",
    "        print(f'{(i%5)+1} {((i+1)%5)+1} {((i+2)%5)+1} {((i+3)%5)+1} {((i+4)%5)+1}')\n",
    "        train = (((i%5)+1 ,((i+1)%5)+1 ,((i+2)%5)+1))\n",
    "        test = ((i+3)%5)+1\n",
    "        cross_val = ((i+4)%5)+1\n",
    "        name_test = f'test_{i+1}'\n",
    "        group[name_test] = (train, test, cross_val)\n",
    "    return group\n",
    "    "
   ]
  },
  {
   "cell_type": "code",
   "execution_count": 33,
   "id": "b4adc997",
   "metadata": {},
   "outputs": [
    {
     "name": "stdout",
     "output_type": "stream",
     "text": [
      "1 2 3 4 5\n",
      "2 3 4 5 1\n",
      "3 4 5 1 2\n",
      "4 5 1 2 3\n",
      "5 1 2 3 4\n",
      "{'test_1': ((1, 2, 3), 4, 5), 'test_2': ((2, 3, 4), 5, 1), 'test_3': ((3, 4, 5), 1, 2), 'test_4': ((4, 5, 1), 2, 3), 'test_5': ((5, 1, 2), 3, 4)}\n"
     ]
    }
   ],
   "source": [
    "groups = make_groups()\n",
    "print(groups)"
   ]
  }
 ],
 "metadata": {
  "kernelspec": {
   "display_name": "Python 3 (ipykernel)",
   "language": "python",
   "name": "python3"
  },
  "language_info": {
   "codemirror_mode": {
    "name": "ipython",
    "version": 3
   },
   "file_extension": ".py",
   "mimetype": "text/x-python",
   "name": "python",
   "nbconvert_exporter": "python",
   "pygments_lexer": "ipython3",
   "version": "3.13.3"
  }
 },
 "nbformat": 4,
 "nbformat_minor": 5
}
