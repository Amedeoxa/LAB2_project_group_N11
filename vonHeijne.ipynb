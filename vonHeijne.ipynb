{
 "cells": [
  {
   "cell_type": "code",
   "execution_count": 3,
   "metadata": {
    "id": "w9TQmbUOsqyE"
   },
   "outputs": [],
   "source": [
    "import pandas as pd"
   ]
  },
  {
   "cell_type": "code",
   "execution_count": 4,
   "metadata": {
    "id": "s3Rn0dZuxq3y"
   },
   "outputs": [
    {
     "name": "stdout",
     "output_type": "stream",
     "text": [
      "A    8.25\n",
      "Q    3.93\n",
      "L    9.64\n",
      "S    6.65\n",
      "R    5.52\n",
      "E    6.71\n",
      "K    5.79\n",
      "T    5.36\n",
      "N    4.06\n",
      "G    7.07\n",
      "M    2.41\n",
      "W    1.10\n",
      "D    5.46\n",
      "H    2.27\n",
      "F    3.86\n",
      "Y    2.92\n",
      "C    1.38\n",
      "I    5.90\n",
      "P    4.74\n",
      "V    6.85\n",
      "dtype: float64\n"
     ]
    }
   ],
   "source": [
    "aa_freq = {\n",
    "    'A': 8.25, 'Q': 3.93, 'L': 9.64, 'S': 6.65,\n",
    "    'R': 5.52, 'E': 6.71, 'K': 5.79, 'T': 5.36,\n",
    "    'N': 4.06, 'G': 7.07, 'M': 2.41, 'W': 1.10,\n",
    "    'D': 5.46, 'H': 2.27, 'F': 3.86, 'Y': 2.92,\n",
    "    'C': 1.38, 'I': 5.90, 'P': 4.74, 'V': 6.85\n",
    "}\n",
    "swissprot_freq = pd.Series(aa_freq)\n",
    "print(swissprot_freq)\n"
   ]
  },
  {
   "cell_type": "code",
   "execution_count": 11,
   "metadata": {},
   "outputs": [
    {
     "name": "stdout",
     "output_type": "stream",
     "text": [
      "['-13', '-12', '-11', '-10', '-9', '-8', '-7', '-6', '-5', '-4', '-3', '-2', '-1', '0', '1']\n"
     ]
    }
   ],
   "source": [
    "col_names = list(aa_freq.keys())\n",
    "\n",
    "row_name = []\n",
    "for i in range(-13, 2):\n",
    "    row_name.append(str(i))\n",
    "    \n",
    "print(row_name)"
   ]
  },
  {
   "cell_type": "code",
   "execution_count": 28,
   "metadata": {},
   "outputs": [
    {
     "name": "stdout",
     "output_type": "stream",
     "text": [
      "{'A': [1, 1, 1, 1, 1, 1, 1, 1, 1, 1, 1, 1, 1, 1, 1], 'Q': [1, 1, 1, 1, 1, 1, 1, 1, 1, 1, 1, 1, 1, 1, 1], 'L': [1, 1, 1, 1, 1, 1, 1, 1, 1, 1, 1, 1, 1, 1, 1], 'S': [1, 1, 1, 1, 1, 1, 1, 1, 1, 1, 1, 1, 1, 1, 1], 'R': [1, 1, 1, 1, 1, 1, 1, 1, 1, 1, 1, 1, 1, 1, 1], 'E': [1, 1, 1, 1, 1, 1, 1, 1, 1, 1, 1, 1, 1, 1, 1], 'K': [1, 1, 1, 1, 1, 1, 1, 1, 1, 1, 1, 1, 1, 1, 1], 'T': [1, 1, 1, 1, 1, 1, 1, 1, 1, 1, 1, 1, 1, 1, 1], 'N': [1, 1, 1, 1, 1, 1, 1, 1, 1, 1, 1, 1, 1, 1, 1], 'G': [1, 1, 1, 1, 1, 1, 1, 1, 1, 1, 1, 1, 1, 1, 1], 'M': [1, 1, 1, 1, 1, 1, 1, 1, 1, 1, 1, 1, 1, 1, 1], 'W': [1, 1, 1, 1, 1, 1, 1, 1, 1, 1, 1, 1, 1, 1, 1], 'D': [1, 1, 1, 1, 1, 1, 1, 1, 1, 1, 1, 1, 1, 1, 1], 'H': [1, 1, 1, 1, 1, 1, 1, 1, 1, 1, 1, 1, 1, 1, 1], 'F': [1, 1, 1, 1, 1, 1, 1, 1, 1, 1, 1, 1, 1, 1, 1], 'Y': [1, 1, 1, 1, 1, 1, 1, 1, 1, 1, 1, 1, 1, 1, 1], 'C': [1, 1, 1, 1, 1, 1, 1, 1, 1, 1, 1, 1, 1, 1, 1], 'I': [1, 1, 1, 1, 1, 1, 1, 1, 1, 1, 1, 1, 1, 1, 1], 'P': [1, 1, 1, 1, 1, 1, 1, 1, 1, 1, 1, 1, 1, 1, 1], 'V': [1, 1, 1, 1, 1, 1, 1, 1, 1, 1, 1, 1, 1, 1, 1]}\n"
     ]
    }
   ],
   "source": [
    "# generate a dict ( in  a sens the matrix, cols == amino acids, rows = pos window)\n",
    "# provide col names: we can use the ones from uniprot.keys()\n",
    "# provide size of window  \n",
    "def mtx_init(cols, window):\n",
    "    mtx =  {}\n",
    "\n",
    "    for i in cols:\n",
    "        row = [1 for j in range(window)]\n",
    "        mtx[i] = row\n",
    "    return mtx\n",
    "\n",
    "\n",
    "pspm = mtx_init(aa_freq.keys(), 15)\n",
    "print(pspm)"
   ]
  },
  {
   "cell_type": "code",
   "execution_count": null,
   "metadata": {},
   "outputs": [],
   "source": [
    "# here we will use the tsv (or df) containing the 15-aa-long sequence fasta\n",
    "\n",
    "fasta_pos = pd.read_csv()\n",
    "\n",
    "def train_model(pspm: dict):\n",
    "    for idx, aa in enumerate(fasta_pos['fasta']):\n",
    "        pspm[aa][idx] += 1\n",
    "\n",
    "\n",
    "    \n",
    "\n",
    "    "
   ]
  }
 ],
 "metadata": {
  "colab": {
   "provenance": []
  },
  "kernelspec": {
   "display_name": "Python 3 (ipykernel)",
   "language": "python",
   "name": "python3"
  },
  "language_info": {
   "codemirror_mode": {
    "name": "ipython",
    "version": 3
   },
   "file_extension": ".py",
   "mimetype": "text/x-python",
   "name": "python",
   "nbconvert_exporter": "python",
   "pygments_lexer": "ipython3",
   "version": "3.13.3"
  }
 },
 "nbformat": 4,
 "nbformat_minor": 1
}
