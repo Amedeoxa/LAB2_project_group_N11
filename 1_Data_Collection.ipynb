{
  "cells": [
    {
      "cell_type": "code",
      "execution_count": 4,
      "metadata": {
        "id": "h3Zraokvuvx0"
      },
      "outputs": [],
      "source": [
        "import requests\n",
        "from requests.adapters import HTTPAdapter, Retry\n",
        "import json\n",
        "import re\n",
        "import sys\n",
        "import pandas as pd"
      ]
    },
    {
      "cell_type": "code",
      "execution_count": 5,
      "metadata": {
        "id": "iGDDK028Axms"
      },
      "outputs": [],
      "source": [
        "url = \"https://rest.uniprot.org/uniprotkb/search?format=json&query=%28%28fragment%3Afalse%29+AND+%28taxonomy_id%3A2759%29+AND+%28length%3A%5B40+TO+*%5D%29+AND+%28reviewed%3Atrue%29+AND+%28existence%3A1%29+AND+%28ft_signal_exp%3A*%29%29&size=500\"\n",
        "response = requests.get(url)\n",
        "session = requests.Session()"
      ]
    },
    {
      "cell_type": "code",
      "source": [
        "def get_next_link(headers):\n",
        "    if \"Link\" in headers:\n",
        "        # Cerca qualunque link rel=\"next\"\n",
        "        links = headers[\"Link\"].split(\",\")\n",
        "        for link in links:\n",
        "            match = re.search(r'<(.+)>; rel=\"next\"', link)\n",
        "            if match:\n",
        "                return match.group(1)\n",
        "    return None\n",
        "\n",
        "def get_batch(batch_url):\n",
        "    while batch_url:\n",
        "        response = session.get(batch_url)\n",
        "        response.raise_for_status()\n",
        "        total = response.headers.get(\"x-total-results\")\n",
        "        yield response, total\n",
        "        batch_url = get_next_link(response.headers)\n",
        "\n",
        "def get_kingdom(entry):\n",
        "  if \"Fungi\" in entry[\"organism\"][\"lineage\"]:\n",
        "     kd = \"Fungi\"\n",
        "  elif \"Viridiplantae\" in entry[\"organism\"][\"lineage\"]:\n",
        "    kd = \"Viridiplantae\"\n",
        "  elif \"Metazoa\" in entry[\"organism\"][\"lineage\"]:\n",
        "    kd = \"Metazoa\"\n",
        "  else:\n",
        "    kd = \"Other\"\n",
        "  return kd"
      ],
      "metadata": {
        "collapsed": true,
        "id": "aIBwOLkezSOe"
      },
      "execution_count": 6,
      "outputs": []
    },
    {
      "cell_type": "code",
      "source": [
        "ok_entries = []\n",
        "for response, total in get_batch(url):\n",
        "    data = response.json()\n",
        "    for i in range(len(data['results'])):\n",
        "      entry = data['results'][i]\n",
        "      if data['results'][i]['features'][0]['location']['end']['value'] > 13 and data['results'][i]['features'][0]['description'] == '':\n",
        "        ok_entries.append(entry)"
      ],
      "metadata": {
        "id": "dd99Ra5OtLxQ"
      },
      "execution_count": 7,
      "outputs": []
    },
    {
      "cell_type": "code",
      "source": [
        "with open(\"positive.tsv\", 'w') as output_file, open(\"positive.fasta\", \"w\") as fasta_outputfile:\n",
        "  for entry in ok_entries:\n",
        "    line = f'''{entry[\"primaryAccession\"]}{'\\t'}{entry[\"organism\"][\"scientificName\"]}{'\\t'}{get_kingdom(entry)}{'\\t'}{entry[\"sequence\"][\"length\"]}{'\\t'}{entry[\"features\"][0][\"location\"][\"end\"][\"value\"]}'''\n",
        "    output_file.write(line + '\\n')\n",
        "    header = f\"\"\">{entry[\"primaryAccession\"]} {entry[\"organism\"][\"scientificName\"]}\"\"\"\n",
        "    sequence = entry[\"sequence\"][\"value\"]\n",
        "    fasta_outputfile.write(header + \"\\n\" + sequence + \"\\n\")"
      ],
      "metadata": {
        "collapsed": true,
        "id": "wLOhRgwaOkZJ"
      },
      "execution_count": 31,
      "outputs": []
    },
    {
      "cell_type": "markdown",
      "source": [
        "# Negatives"
      ],
      "metadata": {
        "id": "C2qNVA5pxTgv"
      }
    },
    {
      "cell_type": "code",
      "source": [
        "urlo_neg = \"https://rest.uniprot.org/uniprotkb/search?format=json&query=%28%28fragment%3Afalse%29+AND+%28taxonomy_id%3A2759%29+AND+%28length%3A%5B40+TO+*%5D%29+AND+%28reviewed%3Atrue%29+AND+%28existence%3A1%29+NOT+%28ft_signal%3A*%29+OR+%28cc_scl_term_exp%3ASL-0091%29+OR+%28cc_scl_term_exp%3ASL-0191%29+OR+%28cc_scl_term_exp%3ASL-0173%29+OR+%28cc_scl_term_exp%3ASL-0209%29+OR+%28cc_scl_term_exp%3ASL-0204%29+OR+%28cc_scl_term_exp%3ASL-0039%29%29&size=500\"\n",
        "response_neg = requests.get(urlo_neg)\n",
        "session = requests.Session()"
      ],
      "metadata": {
        "id": "5AX_4i07yw4N"
      },
      "execution_count": 17,
      "outputs": []
    },
    {
      "cell_type": "code",
      "source": [
        "neg_entries = []\n",
        "for response, total in get_batch(urlo_neg):\n",
        "    data_neg = response.json()"
      ],
      "metadata": {
        "id": "8oG07qHCzESI"
      },
      "execution_count": 18,
      "outputs": []
    },
    {
      "cell_type": "code",
      "source": [
        "data_neg.keys()"
      ],
      "metadata": {
        "colab": {
          "base_uri": "https://localhost:8080/"
        },
        "id": "iRQ3wD2Yz_tf",
        "outputId": "87768ef7-aa9c-4e24-aff6-e055bc42cf16"
      },
      "execution_count": 20,
      "outputs": [
        {
          "output_type": "execute_result",
          "data": {
            "text/plain": [
              "dict_keys(['results'])"
            ]
          },
          "metadata": {},
          "execution_count": 20
        }
      ]
    },
    {
      "cell_type": "code",
      "source": [
        "for i in range(1000):\n",
        "  if len(data_neg['results'][i]['features'])>1:\n",
        "    print(data_neg['results'][i]['features'][1])\n",
        "  #for key in feature:\n",
        "    #if key['type']=='Transmembrane':"
      ],
      "metadata": {
        "colab": {
          "base_uri": "https://localhost:8080/",
          "height": 1000
        },
        "collapsed": true,
        "id": "S2Hu3mMZ0L-3",
        "outputId": "69820070-5702-4169-b45b-ed7c60546757"
      },
      "execution_count": 30,
      "outputs": [
        {
          "output_type": "stream",
          "name": "stdout",
          "text": [
            "{'type': 'Chain', 'location': {'start': {'value': 30, 'modifier': 'EXACT'}, 'end': {'value': 215, 'modifier': 'EXACT'}}, 'description': 'CUE domain-containing protein 4, mitochondrial', 'featureId': 'PRO_0000310344'}\n",
            "{'type': 'Region', 'location': {'start': {'value': 84, 'modifier': 'EXACT'}, 'end': {'value': 108, 'modifier': 'EXACT'}}, 'description': 'Disordered', 'evidences': [{'evidenceCode': 'ECO:0000256', 'source': 'SAM', 'id': 'MobiDB-lite'}]}\n",
            "{'type': 'Region', 'location': {'start': {'value': 20, 'modifier': 'EXACT'}, 'end': {'value': 71, 'modifier': 'EXACT'}}, 'description': 'Disordered', 'evidences': [{'evidenceCode': 'ECO:0000256', 'source': 'SAM', 'id': 'MobiDB-lite'}]}\n",
            "{'type': 'Modified residue', 'location': {'start': {'value': 200, 'modifier': 'EXACT'}, 'end': {'value': 200, 'modifier': 'EXACT'}}, 'description': 'Phosphoserine', 'evidences': [{'evidenceCode': 'ECO:0000269', 'source': 'PubMed', 'id': '18257517'}]}\n",
            "{'type': 'Region', 'location': {'start': {'value': 166, 'modifier': 'EXACT'}, 'end': {'value': 191, 'modifier': 'EXACT'}}, 'description': 'Disordered', 'evidences': [{'evidenceCode': 'ECO:0000256', 'source': 'SAM', 'id': 'MobiDB-lite'}]}\n",
            "{'type': 'Region', 'location': {'start': {'value': 73, 'modifier': 'EXACT'}, 'end': {'value': 92, 'modifier': 'EXACT'}}, 'description': 'Disordered', 'evidences': [{'evidenceCode': 'ECO:0000256', 'source': 'SAM', 'id': 'MobiDB-lite'}]}\n",
            "{'type': 'Active site', 'location': {'start': {'value': 177, 'modifier': 'EXACT'}, 'end': {'value': 177, 'modifier': 'EXACT'}}, 'description': 'Proton acceptor', 'evidences': [{'evidenceCode': 'ECO:0000250'}]}\n",
            "{'type': 'Region', 'location': {'start': {'value': 929, 'modifier': 'EXACT'}, 'end': {'value': 964, 'modifier': 'EXACT'}}, 'description': 'Disordered', 'evidences': [{'evidenceCode': 'ECO:0000256', 'source': 'SAM', 'id': 'MobiDB-lite'}]}\n",
            "{'type': 'Chain', 'location': {'start': {'value': 48, 'modifier': 'EXACT'}, 'end': {'value': 358, 'modifier': 'EXACT'}}, 'description': 'Plastoglobulin-1, chloroplastic', 'featureId': 'PRO_0000023203'}\n",
            "{'type': 'Chain', 'location': {'start': {'value': 75, 'modifier': 'EXACT'}, 'end': {'value': 266, 'modifier': 'EXACT'}}, 'description': 'Ribosome-recycling factor, chloroplastic', 'featureId': 'PRO_0000302885'}\n",
            "{'type': 'Domain', 'location': {'start': {'value': 3, 'modifier': 'EXACT'}, 'end': {'value': 93, 'modifier': 'EXACT'}}, 'description': '2Fe-2S ferredoxin-type', 'evidences': [{'evidenceCode': 'ECO:0000250', 'source': 'UniProtKB', 'id': 'P0A3C8'}, {'evidenceCode': 'ECO:0000255', 'source': 'PROSITE-ProRule', 'id': 'PRU00465'}]}\n",
            "{'type': 'Domain', 'location': {'start': {'value': 4, 'modifier': 'EXACT'}, 'end': {'value': 94, 'modifier': 'EXACT'}}, 'description': '2Fe-2S ferredoxin-type', 'evidences': [{'evidenceCode': 'ECO:0000255', 'source': 'PROSITE-ProRule', 'id': 'PRU00465'}]}\n",
            "{'type': 'Chain', 'location': {'start': {'value': 2, 'modifier': 'EXACT'}, 'end': {'value': 55, 'modifier': 'EXACT'}}, 'description': 'Large ribosomal subunit protein bL32c', 'featureId': 'PRO_0000172481'}\n",
            "{'type': 'Domain', 'location': {'start': {'value': 55, 'modifier': 'EXACT'}, 'end': {'value': 133, 'modifier': 'EXACT'}}, 'description': 'RRM 1', 'evidences': [{'evidenceCode': 'ECO:0000255', 'source': 'PROSITE-ProRule', 'id': 'PRU00176'}]}\n",
            "{'type': 'Helix', 'location': {'start': {'value': 6, 'modifier': 'EXACT'}, 'end': {'value': 22, 'modifier': 'EXACT'}}, 'description': '', 'evidences': [{'evidenceCode': 'ECO:0007829', 'source': 'PDB', 'id': '5A74'}]}\n",
            "{'type': 'Domain', 'location': {'start': {'value': 3, 'modifier': 'EXACT'}, 'end': {'value': 93, 'modifier': 'EXACT'}}, 'description': '2Fe-2S ferredoxin-type', 'evidences': [{'evidenceCode': 'ECO:0000250', 'source': 'UniProtKB', 'id': 'P0A3C8'}, {'evidenceCode': 'ECO:0000255', 'source': 'PROSITE-ProRule', 'id': 'PRU00465'}]}\n",
            "{'type': 'Domain', 'location': {'start': {'value': 3, 'modifier': 'EXACT'}, 'end': {'value': 93, 'modifier': 'EXACT'}}, 'description': '2Fe-2S ferredoxin-type', 'evidences': [{'evidenceCode': 'ECO:0000250', 'source': 'UniProtKB', 'id': 'P0A3C8'}, {'evidenceCode': 'ECO:0000255', 'source': 'PROSITE-ProRule', 'id': 'PRU00465'}]}\n",
            "{'type': 'Chain', 'location': {'start': {'value': 60, 'modifier': 'EXACT'}, 'end': {'value': 319, 'modifier': 'EXACT'}}, 'description': 'Plastid lipid-associated protein 2, chloroplastic', 'featureId': 'PRO_0000023206'}\n",
            "{'type': 'Domain', 'location': {'start': {'value': 28, 'modifier': 'EXACT'}, 'end': {'value': 89, 'modifier': 'EXACT'}}, 'description': 'TRAM 1'}\n",
            "{'type': 'Domain', 'location': {'start': {'value': 8, 'modifier': 'EXACT'}, 'end': {'value': 54, 'modifier': 'EXACT'}}, 'description': 'F-box', 'evidences': [{'evidenceCode': 'ECO:0000255', 'source': 'PROSITE-ProRule', 'id': 'PRU00080'}]}\n",
            "{'type': 'Region', 'location': {'start': {'value': 177, 'modifier': 'EXACT'}, 'end': {'value': 295, 'modifier': 'EXACT'}}, 'description': 'Disordered', 'evidences': [{'evidenceCode': 'ECO:0000256', 'source': 'SAM', 'id': 'MobiDB-lite'}]}\n",
            "{'type': 'Domain', 'location': {'start': {'value': 3, 'modifier': 'EXACT'}, 'end': {'value': 57, 'modifier': 'EXACT'}}, 'description': 'MADS-box', 'evidences': [{'evidenceCode': 'ECO:0000255', 'source': 'PROSITE-ProRule', 'id': 'PRU00251'}]}\n",
            "{'type': 'Domain', 'location': {'start': {'value': 198, 'modifier': 'EXACT'}, 'end': {'value': 304, 'modifier': 'EXACT'}}, 'description': 'KH'}\n",
            "{'type': 'Region', 'location': {'start': {'value': 57, 'modifier': 'EXACT'}, 'end': {'value': 94, 'modifier': 'EXACT'}}, 'description': 'Disordered', 'evidences': [{'evidenceCode': 'ECO:0000256', 'source': 'SAM', 'id': 'MobiDB-lite'}]}\n",
            "{'type': 'Domain', 'location': {'start': {'value': 187, 'modifier': 'EXACT'}, 'end': {'value': 220, 'modifier': 'EXACT'}}, 'description': 'WW'}\n",
            "{'type': 'Helix', 'location': {'start': {'value': 5, 'modifier': 'EXACT'}, 'end': {'value': 7, 'modifier': 'EXACT'}}, 'description': '', 'evidences': [{'evidenceCode': 'ECO:0007829', 'source': 'PDB', 'id': '1Q42'}]}\n",
            "{'type': 'Domain', 'location': {'start': {'value': 3, 'modifier': 'EXACT'}, 'end': {'value': 57, 'modifier': 'EXACT'}}, 'description': 'MADS-box', 'evidences': [{'evidenceCode': 'ECO:0000255', 'source': 'PROSITE-ProRule', 'id': 'PRU00251'}]}\n",
            "{'type': 'Region', 'location': {'start': {'value': 82, 'modifier': 'EXACT'}, 'end': {'value': 115, 'modifier': 'EXACT'}}, 'description': 'Disordered', 'evidences': [{'evidenceCode': 'ECO:0000256', 'source': 'SAM', 'id': 'MobiDB-lite'}]}\n",
            "{'type': 'Domain', 'location': {'start': {'value': 1, 'modifier': 'EXACT'}, 'end': {'value': 309, 'modifier': 'EXACT'}}, 'description': 'RanBD1'}\n",
            "{'type': 'Zinc finger', 'location': {'start': {'value': 8, 'modifier': 'EXACT'}, 'end': {'value': 39, 'modifier': 'EXACT'}}, 'description': '', 'evidences': [{'evidenceCode': 'ECO:0000250'}]}\n",
            "{'type': 'Domain', 'location': {'start': {'value': 101, 'modifier': 'EXACT'}, 'end': {'value': 179, 'modifier': 'EXACT'}}, 'description': 'RRM', 'evidences': [{'evidenceCode': 'ECO:0000255', 'source': 'PROSITE-ProRule', 'id': 'PRU00176'}]}\n",
            "{'type': 'Region', 'location': {'start': {'value': 24, 'modifier': 'EXACT'}, 'end': {'value': 106, 'modifier': 'EXACT'}}, 'description': 'Disordered', 'evidences': [{'evidenceCode': 'ECO:0000256', 'source': 'SAM', 'id': 'MobiDB-lite'}]}\n",
            "{'type': 'Region', 'location': {'start': {'value': 1, 'modifier': 'EXACT'}, 'end': {'value': 25, 'modifier': 'EXACT'}}, 'description': 'Disordered', 'evidences': [{'evidenceCode': 'ECO:0000256', 'source': 'SAM', 'id': 'MobiDB-lite'}]}\n",
            "{'type': 'Chain', 'location': {'start': {'value': 18, 'modifier': 'EXACT'}, 'end': {'value': 187, 'modifier': 'EXACT'}}, 'description': 'Protein P18, mitochondrial', 'featureId': 'PRO_0000021980'}\n",
            "{'type': 'Chain', 'location': {'start': {'value': 2, 'modifier': 'EXACT'}, 'end': {'value': 276, 'modifier': 'EXACT'}}, 'description': 'Mitochondrial outer membrane protein porin of 34 kDa', 'featureId': 'PRO_0000050531'}\n",
            "{'type': 'Domain', 'location': {'start': {'value': 108, 'modifier': 'EXACT'}, 'end': {'value': 183, 'modifier': 'EXACT'}}, 'description': 'RRM'}\n",
            "{'type': 'Modified residue', 'location': {'start': {'value': 113, 'modifier': 'EXACT'}, 'end': {'value': 113, 'modifier': 'EXACT'}}, 'description': 'Phosphoserine', 'evidences': [{'evidenceCode': 'ECO:0000269', 'source': 'PubMed', 'id': '18257517'}]}\n",
            "{'type': 'Modified residue', 'location': {'start': {'value': 110, 'modifier': 'EXACT'}, 'end': {'value': 110, 'modifier': 'EXACT'}}, 'description': 'Phosphoserine', 'evidences': [{'evidenceCode': 'ECO:0000269', 'source': 'PubMed', 'id': '18257517'}]}\n",
            "{'type': 'Modified residue', 'location': {'start': {'value': 63, 'modifier': 'EXACT'}, 'end': {'value': 63, 'modifier': 'EXACT'}}, 'description': 'Phosphoserine', 'evidences': [{'evidenceCode': 'ECO:0000269', 'source': 'PubMed', 'id': '18257517'}]}\n",
            "{'type': 'Region', 'location': {'start': {'value': 1, 'modifier': 'EXACT'}, 'end': {'value': 82, 'modifier': 'EXACT'}}, 'description': 'Disordered', 'evidences': [{'evidenceCode': 'ECO:0000256', 'source': 'SAM', 'id': 'MobiDB-lite'}]}\n",
            "{'type': 'Region', 'location': {'start': {'value': 1, 'modifier': 'EXACT'}, 'end': {'value': 52, 'modifier': 'EXACT'}}, 'description': 'Disordered', 'evidences': [{'evidenceCode': 'ECO:0000256', 'source': 'SAM', 'id': 'MobiDB-lite'}]}\n",
            "{'type': 'DNA binding', 'location': {'start': {'value': 12, 'modifier': 'EXACT'}, 'end': {'value': 80, 'modifier': 'EXACT'}}, 'description': 'HMG box', 'evidences': [{'evidenceCode': 'ECO:0000255', 'source': 'PROSITE-ProRule', 'id': 'PRU00267'}]}\n",
            "{'type': 'Region', 'location': {'start': {'value': 1, 'modifier': 'EXACT'}, 'end': {'value': 34, 'modifier': 'EXACT'}}, 'description': 'Disordered', 'evidences': [{'evidenceCode': 'ECO:0000256', 'source': 'SAM', 'id': 'MobiDB-lite'}]}\n",
            "{'type': 'Modified residue', 'location': {'start': {'value': 170, 'modifier': 'EXACT'}, 'end': {'value': 170, 'modifier': 'EXACT'}}, 'description': 'Phosphoserine', 'evidences': [{'evidenceCode': 'ECO:0000269', 'source': 'PubMed', 'id': '18257517'}]}\n",
            "{'type': 'Region', 'location': {'start': {'value': 1, 'modifier': 'EXACT'}, 'end': {'value': 150, 'modifier': 'EXACT'}}, 'description': 'Disordered', 'evidences': [{'evidenceCode': 'ECO:0000256', 'source': 'SAM', 'id': 'MobiDB-lite'}]}\n",
            "{'type': 'Region', 'location': {'start': {'value': 1, 'modifier': 'EXACT'}, 'end': {'value': 44, 'modifier': 'EXACT'}}, 'description': 'Disordered', 'evidences': [{'evidenceCode': 'ECO:0000256', 'source': 'SAM', 'id': 'MobiDB-lite'}]}\n",
            "{'type': 'Region', 'location': {'start': {'value': 1, 'modifier': 'EXACT'}, 'end': {'value': 36, 'modifier': 'EXACT'}}, 'description': 'Disordered', 'evidences': [{'evidenceCode': 'ECO:0000256', 'source': 'SAM', 'id': 'MobiDB-lite'}]}\n",
            "{'type': 'Region', 'location': {'start': {'value': 30, 'modifier': 'EXACT'}, 'end': {'value': 163, 'modifier': 'EXACT'}}, 'description': 'Disordered', 'evidences': [{'evidenceCode': 'ECO:0000256', 'source': 'SAM', 'id': 'MobiDB-lite'}]}\n",
            "{'type': 'Turn', 'location': {'start': {'value': 7, 'modifier': 'EXACT'}, 'end': {'value': 9, 'modifier': 'EXACT'}}, 'description': '', 'evidences': [{'evidenceCode': 'ECO:0007829', 'source': 'PDB', 'id': '8EUY'}]}\n",
            "{'type': 'Transmembrane', 'location': {'start': {'value': 1, 'modifier': 'EXACT'}, 'end': {'value': 21, 'modifier': 'EXACT'}}, 'description': 'Helical', 'evidences': [{'evidenceCode': 'ECO:0000255'}]}\n",
            "{'type': 'Chain', 'location': {'start': {'value': None, 'modifier': 'UNKNOWN'}, 'end': {'value': 313, 'modifier': 'EXACT'}}, 'description': 'Meiotically up-regulated gene 100 protein, mitochondrial', 'featureId': 'PRO_0000278619'}\n",
            "{'type': 'Region', 'location': {'start': {'value': 1, 'modifier': 'EXACT'}, 'end': {'value': 257, 'modifier': 'EXACT'}}, 'description': 'Disordered', 'evidences': [{'evidenceCode': 'ECO:0000256', 'source': 'SAM', 'id': 'MobiDB-lite'}]}\n",
            "{'type': 'Region', 'location': {'start': {'value': 39, 'modifier': 'EXACT'}, 'end': {'value': 117, 'modifier': 'EXACT'}}, 'description': 'Disordered', 'evidences': [{'evidenceCode': 'ECO:0000256', 'source': 'SAM', 'id': 'MobiDB-lite'}]}\n",
            "{'type': 'Domain', 'location': {'start': {'value': 5, 'modifier': 'EXACT'}, 'end': {'value': 85, 'modifier': 'EXACT'}}, 'description': 'RRM', 'evidences': [{'evidenceCode': 'ECO:0000255', 'source': 'PROSITE-ProRule', 'id': 'PRU00176'}]}\n",
            "{'type': 'Region', 'location': {'start': {'value': 118, 'modifier': 'EXACT'}, 'end': {'value': 202, 'modifier': 'EXACT'}}, 'description': 'Disordered', 'evidences': [{'evidenceCode': 'ECO:0000256', 'source': 'SAM', 'id': 'MobiDB-lite'}]}\n",
            "{'type': 'Region', 'location': {'start': {'value': 165, 'modifier': 'EXACT'}, 'end': {'value': 188, 'modifier': 'EXACT'}}, 'description': 'Disordered', 'evidences': [{'evidenceCode': 'ECO:0000256', 'source': 'SAM', 'id': 'MobiDB-lite'}]}\n",
            "{'type': 'Domain', 'location': {'start': {'value': 5, 'modifier': 'EXACT'}, 'end': {'value': 83, 'modifier': 'EXACT'}}, 'description': 'RRM 1', 'evidences': [{'evidenceCode': 'ECO:0000255', 'source': 'PROSITE-ProRule', 'id': 'PRU00176'}]}\n",
            "{'type': 'Domain', 'location': {'start': {'value': 105, 'modifier': 'EXACT'}, 'end': {'value': 183, 'modifier': 'EXACT'}}, 'description': 'RRM', 'evidences': [{'evidenceCode': 'ECO:0000255', 'source': 'PROSITE-ProRule', 'id': 'PRU00176'}]}\n",
            "{'type': 'Transmembrane', 'location': {'start': {'value': 93, 'modifier': 'EXACT'}, 'end': {'value': 113, 'modifier': 'EXACT'}}, 'description': 'Helical', 'evidences': [{'evidenceCode': 'ECO:0000255'}]}\n",
            "{'type': 'Domain', 'location': {'start': {'value': 7, 'modifier': 'EXACT'}, 'end': {'value': 42, 'modifier': 'EXACT'}}, 'description': 'EF-hand 1', 'evidences': [{'evidenceCode': 'ECO:0000255', 'source': 'PROSITE-ProRule', 'id': 'PRU00448'}]}\n",
            "{'type': 'Domain', 'location': {'start': {'value': 1, 'modifier': 'EXACT'}, 'end': {'value': 99, 'modifier': 'EXACT'}}, 'description': 'Plastocyanin-like'}\n",
            "{'type': 'Domain', 'location': {'start': {'value': 1, 'modifier': 'EXACT'}, 'end': {'value': 99, 'modifier': 'EXACT'}}, 'description': 'Plastocyanin-like'}\n",
            "{'type': 'Transmembrane', 'location': {'start': {'value': 21, 'modifier': 'EXACT'}, 'end': {'value': 36, 'modifier': 'EXACT'}}, 'description': 'Helical', 'evidences': [{'evidenceCode': 'ECO:0000255', 'source': 'HAMAP-Rule', 'id': 'MF_01495'}]}\n",
            "{'type': 'Chain', 'location': {'start': {'value': 58, 'modifier': 'EXACT'}, 'end': {'value': 245, 'modifier': 'EXACT'}}, 'description': 'Oxygen-evolving enhancer protein 2, chloroplastic', 'featureId': 'PRO_0000029574'}\n",
            "{'type': 'Domain', 'location': {'start': {'value': 1, 'modifier': 'EXACT'}, 'end': {'value': 99, 'modifier': 'EXACT'}}, 'description': 'Plastocyanin-like'}\n",
            "{'type': 'Domain', 'location': {'start': {'value': 1, 'modifier': 'EXACT'}, 'end': {'value': 99, 'modifier': 'EXACT'}}, 'description': 'Plastocyanin-like'}\n",
            "{'type': 'Domain', 'location': {'start': {'value': 1, 'modifier': 'EXACT'}, 'end': {'value': 99, 'modifier': 'EXACT'}}, 'description': 'Plastocyanin-like'}\n",
            "{'type': 'Chain', 'location': {'start': {'value': 42, 'modifier': 'EXACT'}, 'end': {'value': 140, 'modifier': 'EXACT'}}, 'description': 'Photosystem II 10 kDa polypeptide, chloroplastic', 'featureId': 'PRO_0000029365'}\n",
            "{'type': 'Domain', 'location': {'start': {'value': 1, 'modifier': 'EXACT'}, 'end': {'value': 99, 'modifier': 'EXACT'}}, 'description': 'Plastocyanin-like'}\n",
            "{'type': 'Domain', 'location': {'start': {'value': 1, 'modifier': 'EXACT'}, 'end': {'value': 99, 'modifier': 'EXACT'}}, 'description': 'Plastocyanin-like'}\n",
            "{'type': 'Domain', 'location': {'start': {'value': 1, 'modifier': 'EXACT'}, 'end': {'value': 99, 'modifier': 'EXACT'}}, 'description': 'Plastocyanin-like'}\n",
            "{'type': 'Chain', 'location': {'start': {'value': None, 'modifier': 'UNKNOWN'}, 'end': {'value': 172, 'modifier': 'EXACT'}}, 'description': 'Carotene biosynthesis-related protein CBR, chloroplastic', 'featureId': 'PRO_0000007804'}\n",
            "{'type': 'Domain', 'location': {'start': {'value': 1, 'modifier': 'EXACT'}, 'end': {'value': 99, 'modifier': 'EXACT'}}, 'description': 'Plastocyanin-like', 'evidences': [{'evidenceCode': 'ECO:0000255'}]}\n",
            "{'type': 'Domain', 'location': {'start': {'value': 1, 'modifier': 'EXACT'}, 'end': {'value': 99, 'modifier': 'EXACT'}}, 'description': 'Plastocyanin-like'}\n",
            "{'type': 'Chain', 'location': {'start': {'value': 52, 'modifier': 'EXACT'}, 'end': {'value': 199, 'modifier': 'EXACT'}}, 'description': 'Oxygen-evolving enhancer protein 3, chloroplastic', 'featureId': 'PRO_0000029591'}\n",
            "{'type': 'Chain', 'location': {'start': {'value': 53, 'modifier': 'EXACT'}, 'end': {'value': 291, 'modifier': 'EXACT'}}, 'description': 'Oxygen-evolving enhancer protein 1, chloroplastic', 'featureId': 'PRO_0000029555'}\n",
            "{'type': 'Domain', 'location': {'start': {'value': 1, 'modifier': 'EXACT'}, 'end': {'value': 98, 'modifier': 'EXACT'}}, 'description': 'Plastocyanin-like'}\n",
            "{'type': 'Domain', 'location': {'start': {'value': 1, 'modifier': 'EXACT'}, 'end': {'value': 99, 'modifier': 'EXACT'}}, 'description': 'Plastocyanin-like'}\n",
            "{'type': 'Transmembrane', 'location': {'start': {'value': 21, 'modifier': 'EXACT'}, 'end': {'value': 43, 'modifier': 'EXACT'}}, 'description': 'Helical', 'evidences': [{'evidenceCode': 'ECO:0000255'}]}\n",
            "{'type': 'Chain', 'location': {'start': {'value': 49, 'modifier': 'EXACT'}, 'end': {'value': 143, 'modifier': 'EXACT'}}, 'description': 'Photosystem I reaction center subunit VI, chloroplastic', 'featureId': 'PRO_0000029416'}\n",
            "{'type': 'Domain', 'location': {'start': {'value': 1, 'modifier': 'EXACT'}, 'end': {'value': 99, 'modifier': 'EXACT'}}, 'description': 'Plastocyanin-like'}\n",
            "{'type': 'Chain', 'location': {'start': {'value': 52, 'modifier': 'EXACT'}, 'end': {'value': 261, 'modifier': 'EXACT'}}, 'description': 'Chlorophyll a-b binding protein CP24, chloroplastic', 'featureId': 'PRO_0000007813'}\n",
            "{'type': 'Domain', 'location': {'start': {'value': 1, 'modifier': 'EXACT'}, 'end': {'value': 97, 'modifier': 'EXACT'}}, 'description': 'Plastocyanin-like'}\n",
            "{'type': 'Domain', 'location': {'start': {'value': 1, 'modifier': 'EXACT'}, 'end': {'value': 98, 'modifier': 'EXACT'}}, 'description': 'Plastocyanin-like'}\n",
            "{'type': 'Domain', 'location': {'start': {'value': 1, 'modifier': 'EXACT'}, 'end': {'value': 99, 'modifier': 'EXACT'}}, 'description': 'Plastocyanin-like'}\n",
            "{'type': 'Transmembrane', 'location': {'start': {'value': 83, 'modifier': 'EXACT'}, 'end': {'value': 105, 'modifier': 'EXACT'}}, 'description': 'Helical', 'evidences': [{'evidenceCode': 'ECO:0000255'}]}\n",
            "{'type': 'Chain', 'location': {'start': {'value': 46, 'modifier': 'EXACT'}, 'end': {'value': 100, 'modifier': 'EXACT'}}, 'description': 'Uncharacterized protein YNL198C, mitochondrial', 'featureId': 'PRO_0000203396'}\n",
            "{'type': 'Region', 'location': {'start': {'value': 1, 'modifier': 'EXACT'}, 'end': {'value': 28, 'modifier': 'EXACT'}}, 'description': 'Disordered', 'evidences': [{'evidenceCode': 'ECO:0000256', 'source': 'SAM', 'id': 'MobiDB-lite'}]}\n",
            "{'type': 'Topological domain', 'location': {'start': {'value': 1, 'modifier': 'EXACT'}, 'end': {'value': 17, 'modifier': 'EXACT'}}, 'description': 'Chloroplast intermembrane'}\n"
          ]
        },
        {
          "output_type": "error",
          "ename": "IndexError",
          "evalue": "list index out of range",
          "traceback": [
            "\u001b[0;31m---------------------------------------------------------------------------\u001b[0m",
            "\u001b[0;31mIndexError\u001b[0m                                Traceback (most recent call last)",
            "\u001b[0;32m/tmp/ipython-input-2583363320.py\u001b[0m in \u001b[0;36m<cell line: 0>\u001b[0;34m()\u001b[0m\n\u001b[1;32m      1\u001b[0m \u001b[0;32mfor\u001b[0m \u001b[0mi\u001b[0m \u001b[0;32min\u001b[0m \u001b[0mrange\u001b[0m\u001b[0;34m(\u001b[0m\u001b[0;36m1000\u001b[0m\u001b[0;34m)\u001b[0m\u001b[0;34m:\u001b[0m\u001b[0;34m\u001b[0m\u001b[0;34m\u001b[0m\u001b[0m\n\u001b[0;32m----> 2\u001b[0;31m   \u001b[0;32mif\u001b[0m \u001b[0mlen\u001b[0m\u001b[0;34m(\u001b[0m\u001b[0mdata_neg\u001b[0m\u001b[0;34m[\u001b[0m\u001b[0;34m'results'\u001b[0m\u001b[0;34m]\u001b[0m\u001b[0;34m[\u001b[0m\u001b[0mi\u001b[0m\u001b[0;34m]\u001b[0m\u001b[0;34m[\u001b[0m\u001b[0;34m'features'\u001b[0m\u001b[0;34m]\u001b[0m\u001b[0;34m)\u001b[0m\u001b[0;34m>\u001b[0m\u001b[0;36m1\u001b[0m\u001b[0;34m:\u001b[0m\u001b[0;34m\u001b[0m\u001b[0;34m\u001b[0m\u001b[0m\n\u001b[0m\u001b[1;32m      3\u001b[0m     \u001b[0mprint\u001b[0m\u001b[0;34m(\u001b[0m\u001b[0mdata_neg\u001b[0m\u001b[0;34m[\u001b[0m\u001b[0;34m'results'\u001b[0m\u001b[0;34m]\u001b[0m\u001b[0;34m[\u001b[0m\u001b[0mi\u001b[0m\u001b[0;34m]\u001b[0m\u001b[0;34m[\u001b[0m\u001b[0;34m'features'\u001b[0m\u001b[0;34m]\u001b[0m\u001b[0;34m[\u001b[0m\u001b[0;36m1\u001b[0m\u001b[0;34m]\u001b[0m\u001b[0;34m)\u001b[0m\u001b[0;34m\u001b[0m\u001b[0;34m\u001b[0m\u001b[0m\n\u001b[1;32m      4\u001b[0m   \u001b[0;31m#for key in feature:\u001b[0m\u001b[0;34m\u001b[0m\u001b[0;34m\u001b[0m\u001b[0m\n\u001b[1;32m      5\u001b[0m     \u001b[0;31m#if key['type']=='Transmembrane':\u001b[0m\u001b[0;34m\u001b[0m\u001b[0;34m\u001b[0m\u001b[0m\n",
            "\u001b[0;31mIndexError\u001b[0m: list index out of range"
          ]
        }
      ]
    }
  ],
  "metadata": {
    "colab": {
      "provenance": []
    },
    "kernelspec": {
      "display_name": "Python 3",
      "name": "python3"
    },
    "language_info": {
      "name": "python"
    }
  },
  "nbformat": 4,
  "nbformat_minor": 0
}