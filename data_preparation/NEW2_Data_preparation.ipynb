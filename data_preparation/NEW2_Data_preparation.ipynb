{
 "cells": [
  {
   "cell_type": "markdown",
   "metadata": {
    "id": "0nn4wZc5_0AI"
   },
   "source": [
    "# **Data preparation**"
   ]
  },
  {
   "cell_type": "markdown",
   "metadata": {
    "id": "k9gHIEB3_ikk"
   },
   "source": [
    "## **Generating non redundant datasets**"
   ]
  },
  {
   "cell_type": "code",
   "execution_count": 230,
   "metadata": {
    "id": "FbfwUM9snZ1v"
   },
   "outputs": [],
   "source": [
    "import pandas as pd"
   ]
  },
  {
   "cell_type": "code",
   "execution_count": 284,
   "metadata": {},
   "outputs": [],
   "source": [
    "def filter_redundancy(unique_ids, total_dataset):\n",
    "\n",
    "    unique_ids = pd.read_csv(unique_ids, header=None, sep='\\t')\n",
    "    total_df = pd.read_csv(total_dataset, header=None, sep='\\t')\n",
    "    filtered = total_df[total_df.iloc[:,0].isin(unique_ids.iloc[:,0])]\n",
    "    \n",
    "    #add write file \n",
    "    \n",
    "    return filtered\n",
    "\n",
    "non_redundant_pos = filter_redundancy('../data_preparation/non_redundant/uniq.pos.tsv', '../data_collection/positive.tsv')\n",
    "\n",
    "non_redundant_neg = filter_redundancy('../data_preparation/non_redundant/uniq.neg.tsv', '../data_collection/negative.tsv')"
   ]
  },
  {
   "cell_type": "markdown",
   "metadata": {
    "id": "24RW7E8os5qL"
   },
   "source": [
    "## **Dividing in train and test set**"
   ]
  },
  {
   "cell_type": "code",
   "execution_count": 275,
   "metadata": {},
   "outputs": [],
   "source": [
    "def split_train_test(df: pd.DataFrame, split: int):\n",
    "    random_seed = 42\n",
    "    shuffle_df = df.sample(frac=1, random_state=random_seed)\n",
    "    split_idx = split*len(df.index)//100\n",
    "    training_set = df.iloc[:split_idx,:].copy()\n",
    "    test_set = df.iloc[split_idx:,:].copy()\n",
    "    return training_set, test_set\n",
    "    \n",
    "training_set_pos, test_set_pos = split_train_test(non_redundant_pos, 80)\n",
    "training_set_neg, test_set_neg = split_train_test(non_redundant_neg, 80)"
   ]
  },
  {
   "cell_type": "code",
   "execution_count": 285,
   "metadata": {},
   "outputs": [
    {
     "name": "stdout",
     "output_type": "stream",
     "text": [
      "the leanght of the positive set is 1093; training:874, testing219\n",
      "the leanght of the negative set is 8934; training:7147, testing1787\n"
     ]
    }
   ],
   "source": [
    "print(f'the leanght of the positive set is {len(training_set_pos)+len(test_set_pos)}; training:{len(training_set_pos)}, testing{len(test_set_pos)}')\n",
    "print(f'the leanght of the negative set is {len(training_set_neg)+len(test_set_neg)}; training:{len(training_set_neg)}, testing{len(test_set_neg)}')\n"
   ]
  },
  {
   "cell_type": "code",
   "execution_count": 277,
   "metadata": {},
   "outputs": [],
   "source": [
    "bins = [0, 25, 50, 75, 100]\n",
    "bin_lables = [1, 2, 3, 4, 5]\n",
    "training_set_pos.loc[:, 'temp_row_num'] = training_set_pos.index.to_numpy(dtype=np.int64)\n",
    "\n",
    "training_set_pos.loc[:, 'validation_n'] = pd.qcut(training_set_pos['temp_row_num'], q=5 , labels=bin_lables )\n",
    "\n",
    "\n",
    "training_set_neg.loc[:, 'temp_row_num'] = training_set_neg.index.to_numpy(dtype=np.int64)\n",
    "\n",
    "training_set_neg.loc[:, 'validation_n'] = pd.qcut(training_set_neg['temp_row_num'], q=5 , labels=bin_lables )"
   ]
  },
  {
   "cell_type": "code",
   "execution_count": 278,
   "metadata": {},
   "outputs": [
    {
     "data": {
      "text/plain": [
       "<bound method IndexOpsMixin.nunique of 0        1\n",
       "4        1\n",
       "7        1\n",
       "11       1\n",
       "12       1\n",
       "        ..\n",
       "17323    5\n",
       "17324    5\n",
       "17325    5\n",
       "17327    5\n",
       "17331    5\n",
       "Name: validation_n, Length: 7147, dtype: category\n",
       "Categories (5, int64): [1 < 2 < 3 < 4 < 5]>"
      ]
     },
     "execution_count": 278,
     "metadata": {},
     "output_type": "execute_result"
    }
   ],
   "source": [
    "training_set_neg['validation_n'].nunique"
   ]
  }
 ],
 "metadata": {
  "colab": {
   "provenance": []
  },
  "kernelspec": {
   "display_name": "Python 3 (ipykernel)",
   "language": "python",
   "name": "python3"
  },
  "language_info": {
   "codemirror_mode": {
    "name": "ipython",
    "version": 3
   },
   "file_extension": ".py",
   "mimetype": "text/x-python",
   "name": "python",
   "nbconvert_exporter": "python",
   "pygments_lexer": "ipython3",
   "version": "3.13.3"
  }
 },
 "nbformat": 4,
 "nbformat_minor": 1
}
