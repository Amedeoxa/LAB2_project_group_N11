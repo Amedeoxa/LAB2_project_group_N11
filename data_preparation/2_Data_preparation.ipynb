{
  "cells": [
    {
      "cell_type": "markdown",
      "metadata": {
        "id": "0nn4wZc5_0AI"
      },
      "source": [
        "# **Data preparation**"
      ]
    },
    {
      "cell_type": "markdown",
      "metadata": {
        "id": "k9gHIEB3_ikk"
      },
      "source": [
        "## **Generating non redundant datasets**"
      ]
    },
    {
      "cell_type": "code",
      "execution_count": 1,
      "metadata": {
        "id": "FbfwUM9snZ1v"
      },
      "outputs": [],
      "source": [
        "import pandas as pd\n",
        "import numpy as np\n",
        "import os"
      ]
    },
    {
      "cell_type": "code",
      "execution_count": 9,
      "metadata": {
        "colab": {
          "base_uri": "https://localhost:8080/"
        },
        "id": "kMcjIoU9nBGo",
        "outputId": "d4bbfa93-ab2d-40d6-a79d-1221a9b7c591"
      },
      "outputs": [
        {
          "output_type": "stream",
          "name": "stdout",
          "text": [
            "8934\n",
            "1093\n"
          ]
        }
      ],
      "source": [
        "def filter_redundancy(unique_ids, total_dataset):\n",
        "\n",
        "    unique_ids = pd.read_csv(unique_ids, header=None, sep='\\t')\n",
        "    total_df = pd.read_csv(total_dataset, header=None, sep='\\t')\n",
        "    filtered = total_df[total_df.iloc[:,0].isin(unique_ids.iloc[:,0])]\n",
        "    return filtered\n",
        "\n",
        "non_redundant_pos = filter_redundancy('uniq.pos.tsv', 'positive.tsv')\n",
        "non_redundant_neg = filter_redundancy('uniq.neg.tsv', 'negative.tsv')\n",
        "print(len(non_redundant_neg))\n",
        "print(len(non_redundant_pos))"
      ]
    },
    {
      "cell_type": "markdown",
      "metadata": {
        "id": "24RW7E8os5qL"
      },
      "source": [
        "## **Dividing in train and test set**"
      ]
    },
    {
      "cell_type": "code",
      "execution_count": 11,
      "metadata": {
        "id": "NHSKO4ninBGp"
      },
      "outputs": [],
      "source": [
        "def split_train_test(df: pd.DataFrame, split: int):\n",
        "    random_seed = 42\n",
        "    shuffle_df = df.sample(frac=1, random_state=random_seed)\n",
        "    split_idx = split*len(df.index)//100\n",
        "    training_set = shuffle_df.iloc[:split_idx,:].copy()\n",
        "    test_set = shuffle_df.iloc[split_idx:,:].copy()\n",
        "    return training_set, test_set\n",
        "\n",
        "training_set_pos, test_set_pos = split_train_test(non_redundant_pos, 80)\n",
        "training_set_neg, test_set_neg = split_train_test(non_redundant_neg, 80)\n",
        "\n",
        "training_set = pd.concat([training_set_pos, training_set_neg])\n",
        "test_set = pd.concat([test_set_pos, test_set_neg])\n",
        "\n",
        "training_set_pos.to_csv('training_set_pos.tsv', sep='\\t', index=False, header=False)\n",
        "test_set_pos.to_csv('test_set_pos.tsv', sep='\\t', index=False, header=False)\n",
        "\n",
        "training_set_neg.to_csv('training_set_neg.tsv', sep='\\t', index=False, header=False)\n",
        "test_set_neg.to_csv('test_set_neg.tsv', sep='\\t', index=False, header=False)\n",
        "\n",
        "training_set.to_csv('training_set.tsv', sep='\\t', index=False, header=False)\n",
        "test_set.to_csv('test_set.tsv', sep='\\t', index=False, header=False)"
      ]
    },
    {
      "cell_type": "code",
      "source": [
        "len(training_set_pos)+len(training_set_neg)\n"
      ],
      "metadata": {
        "colab": {
          "base_uri": "https://localhost:8080/"
        },
        "id": "rI3i-nXEsud6",
        "outputId": "ad62e96c-dcd9-47c0-e550-b1e0e4fbf915"
      },
      "execution_count": 12,
      "outputs": [
        {
          "output_type": "execute_result",
          "data": {
            "text/plain": [
              "8021"
            ]
          },
          "metadata": {},
          "execution_count": 12
        }
      ]
    },
    {
      "cell_type": "code",
      "execution_count": 13,
      "metadata": {
        "id": "V90B2AYtnBGp",
        "outputId": "35ab655f-8777-4e06-c38f-82e95a317213",
        "colab": {
          "base_uri": "https://localhost:8080/"
        }
      },
      "outputs": [
        {
          "output_type": "stream",
          "name": "stdout",
          "text": [
            "the lenght of the positive set is 1093; training:874, testing219\n",
            "the lenght of the negative set is 8934; training:7147, testing1787\n"
          ]
        }
      ],
      "source": [
        "print(f'the lenght of the positive set is {len(training_set_pos)+len(test_set_pos)}; training:{len(training_set_pos)}, testing{len(test_set_pos)}')\n",
        "print(f'the lenght of the negative set is {len(training_set_neg)+len(test_set_neg)}; training:{len(training_set_neg)}, testing{len(test_set_neg)}')\n"
      ]
    },
    {
      "cell_type": "markdown",
      "source": [
        "## **Dividing the training set in 5 validation sets**"
      ],
      "metadata": {
        "id": "ELP5Ow_TwehG"
      }
    },
    {
      "cell_type": "code",
      "execution_count": 14,
      "metadata": {
        "id": "YL_n4SMenBGq"
      },
      "outputs": [],
      "source": [
        "bins = [0, 25, 50, 75, 100]\n",
        "bin_lables = [1, 2, 3, 4, 5]\n",
        "training_set_pos.loc[:, 'temp_row_num'] = training_set_pos.index.to_numpy(dtype=np.int64)\n",
        "\n",
        "training_set_pos.loc[:, 'validation_n'] = pd.qcut(training_set_pos['temp_row_num'], q=5 , labels=bin_lables )\n",
        "\n",
        "training_set_neg.loc[:, 'temp_row_num'] = training_set_neg.index.to_numpy(dtype=np.int64)\n",
        "\n",
        "training_set_neg.loc[:, 'validation_n'] = pd.qcut(training_set_neg['temp_row_num'], q=5 , labels=bin_lables )"
      ]
    },
    {
      "cell_type": "code",
      "execution_count": 15,
      "metadata": {
        "id": "UhQIIDgQnBGq",
        "outputId": "f5f7a2ef-5ecc-48ca-cb92-987e0ea05a72",
        "colab": {
          "base_uri": "https://localhost:8080/"
        }
      },
      "outputs": [
        {
          "output_type": "stream",
          "name": "stdout",
          "text": [
            "<bound method IndexOpsMixin.nunique of 15381    4\n",
            "10122    3\n",
            "4596     1\n",
            "15161    4\n",
            "5673     2\n",
            "        ..\n",
            "15093    4\n",
            "4372     1\n",
            "10545    3\n",
            "10217    3\n",
            "19621    5\n",
            "Name: validation_n, Length: 7147, dtype: category\n",
            "Categories (5, int64): [1 < 2 < 3 < 4 < 5]>\n"
          ]
        }
      ],
      "source": [
        "print(training_set_neg['validation_n'].nunique)"
      ]
    }
  ],
  "metadata": {
    "colab": {
      "provenance": []
    },
    "kernelspec": {
      "display_name": "Python 3 (ipykernel)",
      "language": "python",
      "name": "python3"
    },
    "language_info": {
      "codemirror_mode": {
        "name": "ipython",
        "version": 3
      },
      "file_extension": ".py",
      "mimetype": "text/x-python",
      "name": "python",
      "nbconvert_exporter": "python",
      "pygments_lexer": "ipython3",
      "version": "3.13.3"
    }
  },
  "nbformat": 4,
  "nbformat_minor": 0
}